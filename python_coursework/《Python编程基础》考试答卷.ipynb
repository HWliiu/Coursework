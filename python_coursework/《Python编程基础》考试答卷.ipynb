{
 "cells": [
  {
   "cell_type": "markdown",
   "metadata": {},
   "source": [
    "<font size=4 color=Blue> 请使用Jupyter中的file菜单中的rename菜单项，将\"《Python编程基础》考试试卷\"重命名为</font> <font size=4 color=Red>\"学号\\_姓名\\_《Python编程基础》考试答卷\",</font> <font size=4 color=Blue> 例如学号为201626002051的学生李泰隆，应重命名为</font> <font size=4 color=Red>\"201626002051\\_李泰隆\\_《Python编程基础》考试答卷\"</font> 每个题目的程序代码写在其后的in中，并要求按\"Ctrl+Enter\"键运行输出。"
   ]
  },
  {
   "cell_type": "markdown",
   "metadata": {},
   "source": [
    "编程题1：用户输入一个三位自然数，计算并输出其佰位、十位和个位上的数字。"
   ]
  },
  {
   "cell_type": "code",
   "execution_count": 3,
   "metadata": {},
   "outputs": [
    {
     "name": "stdout",
     "output_type": "stream",
     "text": [
      "输入一个三位自然数:321\n",
      "百位:3 十位:2 个位:1\n"
     ]
    }
   ],
   "source": [
    "import re\n",
    "\n",
    "x = input('输入一个三位自然数:')\n",
    "while not re.match('^\\d{3}$', x):\n",
    "    x = input('输入有误 请重新输入:')\n",
    "print('百位:{} 十位:{} 个位:{}'.format(x[0], x[1], x[2]))\n"
   ]
  },
  {
   "cell_type": "markdown",
   "metadata": {},
   "source": [
    "编程题2：任意输入三个英文单词，按字典顺序输出。"
   ]
  },
  {
   "cell_type": "code",
   "execution_count": 2,
   "metadata": {},
   "outputs": [
    {
     "name": "stdout",
     "output_type": "stream",
     "text": [
      "任意输入三个英文单词:qwe\n",
      "e q w\n"
     ]
    }
   ],
   "source": [
    "import re\n",
    "\n",
    "x = input('任意输入三个英文单词:')\n",
    "while not re.match('^[A-Za-z]{3}$', x):\n",
    "    x = input('输入有误 请重新输入:')\n",
    "print(*sorted(x))\n"
   ]
  },
  {
   "cell_type": "markdown",
   "metadata": {},
   "source": [
    "编程题3：生成只包含100个随机小写字母字符的字符串，然后统计每个字符的出现次数并按字母顺序输出统计结果。"
   ]
  },
  {
   "cell_type": "code",
   "execution_count": 6,
   "metadata": {},
   "outputs": [
    {
     "name": "stdout",
     "output_type": "stream",
     "text": [
      "('a', 2) ('b', 3) ('c', 6) ('d', 7) ('e', 5) ('f', 6) ('g', 2) ('h', 2) ('i', 3) ('j', 5) ('k', 4) ('l', 3) ('m', 6) ('n', 4) ('o', 3) ('p', 4) ('q', 5) ('r', 2) ('s', 4) ('t', 3) ('u', 4) ('v', 5) ('w', 3) ('x', 3) ('y', 1) ('z', 5)\n"
     ]
    }
   ],
   "source": [
    "import random\n",
    "import string\n",
    "from collections import Counter\n",
    "\n",
    "print(*sorted(Counter(''.join(random.choice(string.ascii_lowercase) for i in range(100))).items(), key=lambda d: d[0]))\n"
   ]
  },
  {
   "cell_type": "markdown",
   "metadata": {},
   "source": [
    "编程题4：编写程序帮大臣算算。<br>\n",
    "有个故事说的是一个国王要感谢一个大臣,就让他提一个条件。大臣说：“我的要求不高,只要在棋盘的第一个格子里装1粒米,\n",
    "第二个格子里装2粒,第三个格子里装4粒,第四个格子里装8粒,以此类推,直到把64个格子装完。”国王一听,暗暗发笑,要求太低了,\n",
    "照此办理。请问大家这位大臣一共能得到多少粒米?如果按50000粒米一千克,他又得到了多少吨大米? "
   ]
  },
  {
   "cell_type": "code",
   "execution_count": 7,
   "metadata": {},
   "outputs": [
    {
     "name": "stdout",
     "output_type": "stream",
     "text": [
      "这位大臣一共能得到18446744073709551615粒米\n",
      "相当于368934881474.19104吨大米\n"
     ]
    }
   ],
   "source": [
    "from functools import reduce\n",
    "\n",
    "n = reduce(lambda x, y: x + y, [2 ** i for i in range(64)])\n",
    "print('这位大臣一共能得到{}粒米'.format(n))\n",
    "print('相当于{}吨大米'.format(n / 50000 / 1000))\n"
   ]
  },
  {
   "cell_type": "markdown",
   "metadata": {},
   "source": [
    "编程题5：从键盘上输入一个三位的正整数x，判断x是否是水仙花数，若是则输出是水仙花数，否则输出不是水仙花数。提示：水仙花数是指一个三位的整数，其各个数位上的数字的立方和等于其本身，例如：因为371=33+73+13，则371为水仙花数。"
   ]
  },
  {
   "cell_type": "code",
   "execution_count": 9,
   "metadata": {},
   "outputs": [
    {
     "name": "stdout",
     "output_type": "stream",
     "text": [
      "输入三位正整数:371\n",
      "是水仙花数\n",
      "输入三位正整数:123\n",
      "不是水仙花数\n"
     ]
    }
   ],
   "source": [
    "import re\n",
    "\n",
    "for i in range(2):\n",
    "    x = input('输入三位正整数:')\n",
    "    while not re.match('^\\d{3}$', x):\n",
    "        x = input('输入有误 请重新输入:')\n",
    "    print(['不是水仙花数', '是水仙花数'][int(x[0]) ** 3 + int(x[1]) ** 3 + int(x[2]) ** 3 == int(x)])\n"
   ]
  },
  {
   "cell_type": "markdown",
   "metadata": {},
   "source": [
    "编程题6：输入百分制的分数，输出五级计分制的等级。>=90为A等级,80-89为B等级，70-79为C等级,60-69为D等级，<60为E等级。"
   ]
  },
  {
   "cell_type": "code",
   "execution_count": 10,
   "metadata": {},
   "outputs": [
    {
     "name": "stdout",
     "output_type": "stream",
     "text": [
      "输入百分制的分数:99\n",
      "A等级\n",
      "输入百分制的分数:89\n",
      "B等级\n",
      "输入百分制的分数:79\n",
      "C等级\n",
      "输入百分制的分数:69\n",
      "D等级\n",
      "输入百分制的分数:59\n",
      "E等级\n"
     ]
    }
   ],
   "source": [
    "import re\n",
    "\n",
    "for i in range(5):\n",
    "    x = input('输入百分制的分数:')\n",
    "    while not re.match('^([1-9]?\\d|100)$', x):\n",
    "        x = input('输入有误 请重新输入:')\n",
    "    if int(x) >= 90:\n",
    "        print('A等级')\n",
    "    elif int(x) >= 80:\n",
    "        print('B等级')\n",
    "    elif int(x) >= 70:\n",
    "        print('C等级')\n",
    "    elif int(x) >= 60:\n",
    "        print('D等级')\n",
    "    else:\n",
    "        print('E等级')\n"
   ]
  },
  {
   "attachments": {
    "image.png": {
     "image/png": "[encoded data removed]"
    }
   },
   "cell_type": "markdown",
   "metadata": {},
   "source": [
    "编程题7：使用嵌套的循环结构打印如下图所示的九九乘法表。\n",
    "![image.png](attachment:image.png)"
   ]
  },
  {
   "cell_type": "code",
   "execution_count": 20,
   "metadata": {},
   "outputs": [
    {
     "name": "stdout",
     "output_type": "stream",
     "text": [
      "1*1=1  1*2=2  1*3=3  1*4=4  1*5=5  1*6=6  1*7=7  1*8=8  1*9=9  \n",
      "       2*2=4  2*3=6  2*4=8  2*5=10 2*6=12 2*7=14 2*8=16 2*9=18 \n",
      "              3*3=9  3*4=12 3*5=15 3*6=18 3*7=21 3*8=24 3*9=27 \n",
      "                     4*4=16 4*5=20 4*6=24 4*7=28 4*8=32 4*9=36 \n",
      "                            5*5=25 5*6=30 5*7=35 5*8=40 5*9=45 \n",
      "                                   6*6=36 6*7=42 6*8=48 6*9=54 \n",
      "                                          7*7=49 7*8=56 7*9=63 \n",
      "                                                 8*8=64 8*9=72 \n",
      "                                                        9*9=81 \n"
     ]
    }
   ],
   "source": [
    "for i in range(1, 10):\n",
    "    for k in range(1, i):\n",
    "        print(end=' '*7)\n",
    "    for j in range(i, 10):\n",
    "        print(\"%d*%d=%-2d\" % (i, j, i * j), end=' ')\n",
    "    print('')\n"
   ]
  },
  {
   "attachments": {
    "image.png": {
     "image/png": "[encoded data removed]"
    }
   },
   "cell_type": "markdown",
   "metadata": {},
   "source": [
    "编程题8：输出由星号*组成的菱形图案，菱形图案的行数由键盘输入。\n",
    "![image.png](attachment:image.png)"
   ]
  },
  {
   "cell_type": "code",
   "execution_count": 22,
   "metadata": {},
   "outputs": [
    {
     "name": "stdout",
     "output_type": "stream",
     "text": [
      "输入行数:10\n",
      "             *             \n",
      "          *  *  *          \n",
      "       *  *  *  *  *       \n",
      "    *  *  *  *  *  *  *    \n",
      " *  *  *  *  *  *  *  *  * \n",
      "    *  *  *  *  *  *  *    \n",
      "       *  *  *  *  *       \n",
      "          *  *  *          \n",
      "             *             \n"
     ]
    }
   ],
   "source": [
    "n = int(input('输入行数:'))\n",
    "n = [n - 1, n][n % 2]\n",
    "print('\\n'.join([(' * ' * ([i, abs(i - n + 1)][i > n // 2] * 2 + 1)).center(n * 3, ' ') for i in range(n)]))\n"
   ]
  },
  {
   "cell_type": "markdown",
   "metadata": {},
   "source": [
    "编程题9：编写生成斐波那契数列的函数，该函数的功能的接收参数n，输出最后一项不大于n的最大整数的斐波那契数列。"
   ]
  },
  {
   "cell_type": "code",
   "execution_count": 23,
   "metadata": {},
   "outputs": [
    {
     "name": "stdout",
     "output_type": "stream",
     "text": [
      "[1, 1, 2, 3, 5, 8, 13, 21, 34, 55, 89]\n"
     ]
    }
   ],
   "source": [
    "def print_fib(n):\n",
    "    def fib(m):\n",
    "        a, b = 0, 1\n",
    "        while b <= m:\n",
    "            yield b\n",
    "            a, b = b, a + b\n",
    "\n",
    "    print([i for i in fib(n)])\n",
    "\n",
    "\n",
    "print_fib(100)\n"
   ]
  },
  {
   "cell_type": "markdown",
   "metadata": {},
   "source": [
    "编程题10:编写函数，接收一个字符串，分别统计该字符串中大写字母，小写字母，数字，其他字符的个数，并以元组的形式返回结果。"
   ]
  },
  {
   "cell_type": "code",
   "execution_count": 24,
   "metadata": {},
   "outputs": [
    {
     "name": "stdout",
     "output_type": "stream",
     "text": [
      "(1, 3, 3, 3)\n"
     ]
    }
   ],
   "source": [
    "def tongji(s):\n",
    "    c1, c2, c3, c4 = 0, 0, 0, 0\n",
    "\n",
    "    for i in s:\n",
    "        if 'A' <= i <= 'Z':\n",
    "            c1 += 1\n",
    "        elif 'a' <= i <= 'z':\n",
    "            c2 += 1\n",
    "        elif '0' <= i <= '9':\n",
    "            c3 += 1\n",
    "        else:\n",
    "            c4 += 1\n",
    "    return (c1, c2, c3, c4)\n",
    "\n",
    "\n",
    "s = 'Test123!@#'\n",
    "\n",
    "print(tongji(s))\n"
   ]
  },
  {
   "cell_type": "markdown",
   "metadata": {},
   "source": [
    "编程题11：假设有一段英文，其中有单独的字母I写成了i，请编写程序进行纠正。"
   ]
  },
  {
   "cell_type": "code",
   "execution_count": 26,
   "metadata": {},
   "outputs": [
    {
     "name": "stdout",
     "output_type": "stream",
     "text": [
      "I am ironman\n"
     ]
    }
   ],
   "source": [
    "import re\n",
    "\n",
    "\n",
    "def fix_i2I(s):\n",
    "    return re.sub(r'\\bi\\b', 'I', s)\n",
    "\n",
    "\n",
    "print(fix_i2I('i am ironman'))\n"
   ]
  },
  {
   "cell_type": "markdown",
   "metadata": {},
   "source": [
    "编程题12：有一段英文文本,其中有个单词连续重复了2次,编写程序检查重复的单词并只保留一个。<br>例如,文本内容为“This is is a desk.”,程序输出为“This is a desk“"
   ]
  },
  {
   "cell_type": "code",
   "execution_count": 27,
   "metadata": {},
   "outputs": [
    {
     "name": "stdout",
     "output_type": "stream",
     "text": [
      "This is a desk\n"
     ]
    }
   ],
   "source": [
    "import re\n",
    "\n",
    "\n",
    "def fix_repeat_word(s):\n",
    "    return re.sub(r'\\b([a-zA-Z]+)\\s+\\1\\b', r'\\1', s)\n",
    "\n",
    "\n",
    "print(fix_repeat_word('This is is a desk'))\n"
   ]
  },
  {
   "cell_type": "markdown",
   "metadata": {},
   "source": [
    "编程题13：提取文本中的ABAC和AABB形式的成语\n",
    "\n",
    "若：text='''行尸走肉、金蝉脱壳、百里挑一、金玉满堂、背水一战、霸王别姬、天上人间、不吐不快、海阔天空、\n",
    "情非得已、满腹经纶、兵临城下、春暖花开、插翅难逃、黄道吉日、天下无双、偷天换日、两小无猜、卧虎藏龙、\n",
    "珠光宝气、簪缨世族、花花公子、绘声绘影、国色天香、相亲相爱、八仙过海、金玉良缘、掌上明珠、皆大欢喜、\n",
    "逍遥法外、天涯海角、牛郎织女、倾国倾城、飘飘欲仙、福星高照、妄自菲薄、永无止境、学富五车、饮食男女、\n",
    "英雄豪杰、国士无双、塞翁失马、万家灯火、石破天惊、精忠报国、养生之道、覆雨翻云、六道轮回、鹰击长空、\n",
    "日日夜夜、厚德载物、亡羊补牢、万里长城、黄金时代、出生入死、一路顺风、随遇而安、千军万马、郑人买履'''\n",
    "\n",
    "提取后的结果为：\n",
    "不吐不快\n",
    "绘声绘影\n",
    "相亲相爱\n",
    "倾国倾城\n",
    "日日夜夜"
   ]
  },
  {
   "cell_type": "code",
   "execution_count": 29,
   "metadata": {},
   "outputs": [
    {
     "name": "stdout",
     "output_type": "stream",
     "text": [
      "不吐不快\n",
      "绘声绘影\n",
      "相亲相爱\n",
      "倾国倾城\n",
      "日日夜夜\n"
     ]
    }
   ],
   "source": [
    "import re\n",
    "text='''行尸走肉、金蝉脱壳、百里挑一、金玉满堂、背水一战、霸王别姬、天上人间、不吐不快、海阔天空、\n",
    "情非得已、满腹经纶、兵临城下、春暖花开、插翅难逃、黄道吉日、天下无双、偷天换日、两小无猜、卧虎藏龙、\n",
    "珠光宝气、簪缨世族、花花公子、绘声绘影、国色天香、相亲相爱、八仙过海、金玉良缘、掌上明珠、皆大欢喜、\n",
    "逍遥法外、天涯海角、牛郎织女、倾国倾城、飘飘欲仙、福星高照、妄自菲薄、永无止境、学富五车、饮食男女、\n",
    "英雄豪杰、国士无双、塞翁失马、万家灯火、石破天惊、精忠报国、养生之道、覆雨翻云、六道轮回、鹰击长空、\n",
    "日日夜夜、厚德载物、亡羊补牢、万里长城、黄金时代、出生入死、一路顺风、随遇而安、千军万马、郑人买履'''\n",
    "for item in re.findall(r'(((.).\\3.)|((.)\\5(.)\\6))',text) :\n",
    "    print(item[0])"
   ]
  },
  {
   "cell_type": "markdown",
   "metadata": {},
   "source": [
    "编程题14：编写程序，用户输入一段英文，然后输出这段英文中所有长度为3个字母的单词。"
   ]
  },
  {
   "cell_type": "code",
   "execution_count": 30,
   "metadata": {},
   "outputs": [
    {
     "name": "stdout",
     "output_type": "stream",
     "text": [
      "['and', 'was', 'van', 'the', 'GNU', 'GPL']\n"
     ]
    }
   ],
   "source": [
    "import re\n",
    "\n",
    "example = '''Python is a general-purpose interpreted, interactive, object-oriented, and high-level programming language. It was created by Guido van Rossum during 1985- 1990. Like Perl, Python source code is also available under the GNU General Public License (GPL). This tutorial gives enough understanding on Python programming language.'''\n",
    "print(re.findall(r'\\b[a-zA-Z]{3}\\b', example))\n"
   ]
  },
  {
   "cell_type": "markdown",
   "metadata": {},
   "source": [
    "编程题15：编写程序，从键盘上输入指定文件夹和指定文件类型，编写函数递归删除指定文件夹中指定类型的文件。例如输入的指定文件夹是\"c:\\user\"，指定文件类型是\".tmp\",则运行程序会把c:\\user文件夹下的所有扩展名为.tmp的文件全部删除。"
   ]
  },
  {
   "cell_type": "code",
   "execution_count": 31,
   "metadata": {},
   "outputs": [
    {
     "name": "stdout",
     "output_type": "stream",
     "text": [
      "输入文件夹路径:c:\\test\n",
      "输入文件类型:.tmp\n",
      "c:\\test\\temp1 - 副本 (2).tmp 删除成功...\n",
      "c:\\test\\temp1 - 副本 (3).tmp 删除成功...\n",
      "c:\\test\\temp1 - 副本 (4).tmp 删除成功...\n",
      "c:\\test\\temp1 - 副本 (5).tmp 删除成功...\n",
      "c:\\test\\temp1 - 副本.tmp 删除成功...\n",
      "c:\\test\\temp1.tmp 删除成功...\n"
     ]
    }
   ],
   "source": [
    "from os.path import isdir, join, splitext\n",
    "from os import remove, listdir, chmod, stat\n",
    "\n",
    "file_types = []\n",
    "\n",
    "\n",
    "def del_files(directory):\n",
    "    if not isdir(directory):\n",
    "        return\n",
    "    for filename in listdir(directory):\n",
    "        temp = join(directory, filename)\n",
    "        if isdir(temp):\n",
    "            del_files(temp)\n",
    "        elif splitext(temp)[1] in file_types:\n",
    "            chmod(temp, 0o777)\n",
    "            remove(temp)\n",
    "            print(temp, '删除成功...')\n",
    "\n",
    "\n",
    "path = input('输入文件夹路径:')\n",
    "file_type = input('输入文件类型:')\n",
    "file_types.append(file_type)\n",
    "\n",
    "del_files(path)\n"
   ]
  }
 ],
 "metadata": {
  "kernelspec": {
   "display_name": "Python 3",
   "language": "python",
   "name": "python3"
  },
  "language_info": {
   "codemirror_mode": {
    "name": "ipython",
    "version": 3
   },
   "file_extension": ".py",
   "mimetype": "text/x-python",
   "name": "python",
   "nbconvert_exporter": "python",
   "pygments_lexer": "ipython3",
   "version": "3.7.0"
  }
 },
 "nbformat": 4,
 "nbformat_minor": 2
}
